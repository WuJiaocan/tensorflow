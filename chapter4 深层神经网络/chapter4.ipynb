{
 "cells": [
  {
   "cell_type": "code",
   "execution_count": null,
   "metadata": {},
   "outputs": [],
   "source": [
    "import tensorflow as tf\n",
    "a = tf.nn.relu(tf.matmul(x,w1) + biases1)\n",
    "y = tf.nn.relu(tf.matmul(a,w2) + biases2)"
   ]
  },
  {
   "cell_type": "code",
   "execution_count": 5,
   "metadata": {},
   "outputs": [
    {
     "name": "stdout",
     "output_type": "stream",
     "text": [
      "3.5\n"
     ]
    }
   ],
   "source": [
    "# reduce_mean用法\n",
    "import tensorflow as tf\n",
    "v = tf.constant([[1.0, 2.0, 3.0],\n",
    "                [4.0, 5.0, 6.0]])\n",
    "with tf.Session() as sess:\n",
    "    print(tf.reduce_mean(v).eval())"
   ]
  },
  {
   "cell_type": "markdown",
   "metadata": {},
   "source": [
    "### 预测离散值的损失函数"
   ]
  },
  {
   "cell_type": "code",
   "execution_count": null,
   "metadata": {},
   "outputs": [],
   "source": [
    "# softmax之后计算交叉熵\n",
    "# y_代表正确结果，y代表预测结果\n",
    "cross_entropy = - tf.reduce_mean(\n",
    "    y_ * tf.log(tf.clip_by_value(y, 1e-10, 1.0)))\n",
    "\n",
    "# softmax + 交叉熵，统一封装\n",
    "corss_entropy = tf.nn.softmax_cross_entropy_with_logits(\n",
    "    labels = y_, logits = y)\n"
   ]
  },
  {
   "cell_type": "markdown",
   "metadata": {},
   "source": [
    "### 预测连续值的损失函数"
   ]
  },
  {
   "cell_type": "code",
   "execution_count": null,
   "metadata": {},
   "outputs": [],
   "source": [
    "# 均方误差 MSE\n",
    "mse = tf.reduce_mean(tf.square(y_ - y))"
   ]
  },
  {
   "cell_type": "markdown",
   "metadata": {},
   "source": [
    "### 自定义损失函数"
   ]
  },
  {
   "cell_type": "code",
   "execution_count": null,
   "metadata": {},
   "outputs": [],
   "source": [
    "# v1大于v2，损失函数为(v1-v2)*a\n",
    "# v1小于v2，损失函数为(v2-v1)*b\n",
    "loss = tf.reduce_sum(tf.where(tf.greater(v1, v2),\n",
    "                            (v1-v2)*a, (v2-v1)*b))"
   ]
  },
  {
   "cell_type": "code",
   "execution_count": 10,
   "metadata": {},
   "outputs": [
    {
     "name": "stdout",
     "output_type": "stream",
     "text": [
      "[False False  True  True]\n",
      "[4. 3. 3. 4.]\n"
     ]
    },
    {
     "name": "stderr",
     "output_type": "stream",
     "text": [
      "/home/wujiaocan/anaconda3/lib/python3.6/site-packages/tensorflow/python/client/session.py:1645: UserWarning: An interactive session is already active. This can cause out-of-memory errors in some cases. You must explicitly call `InteractiveSession.close()` to release resources held by the other session(s).\n",
      "  warnings.warn('An interactive session is already active. This can '\n"
     ]
    }
   ],
   "source": [
    "v1 = tf.constant([1.0, 2.0, 3.0, 4.0])\n",
    "v2 = tf.constant([4.0, 3.0, 2.0, 1.0])\n",
    "\n",
    "sess = tf.InteractiveSession()\n",
    "print(tf.greater(v1, v2).eval()) # 比较v1,v2哪个值大，v1大于v2，返回true，v1小于v2，返回false。\n",
    "\n",
    "print(tf.where(tf.greater(v1, v2), v1, v2).eval())     # tf.where(condition, x, y)根据condition返回x或者y,true返回x,false返回y。\n",
    "\n",
    "sess.close()"
   ]
  },
  {
   "cell_type": "markdown",
   "metadata": {},
   "source": [
    "### 损失函数对模型训练结果的影响"
   ]
  },
  {
   "cell_type": "code",
   "execution_count": 36,
   "metadata": {},
   "outputs": [],
   "source": [
    "'''\n",
    "    自定义损失函数\n",
    "'''\n",
    "import tensorflow as tf\n",
    "from numpy.random import RandomState\n",
    "\n",
    "batch_size = 8\n",
    "\n",
    "# 两个输入节点\n",
    "x = tf.placeholder(tf.float32, shape=(None,2), name=\"x-input\")\n",
    "# 回归问题一般只有一个输出节点\n",
    "y_ = tf.placeholder(tf.float32, shape=(None,1), name=\"y-input\")\n",
    "\n",
    "# 单层神经网络向前传播，简单的加权和\n",
    "w1 = tf.Variable(tf.random_normal([2,1], stddev=1, seed=1))\n",
    "y = tf.matmul(x,w1)\n",
    "\n",
    "\n",
    "loss = tf.reduce_sum(tf.where(tf.greater(y, y_), (y-y_)*loss_more, (y_-y)*loss_less))\n",
    "train_step = tf.train.AdamOptimizer(0.001).minimize(loss;)\n",
    "\n",
    "# 通过一个随机数生成一个模拟数据集\n",
    "rdm = RandomState(1)\n",
    "dataset_size = 128\n",
    "X = rdm.rand(dataset_size, 2)\n",
    "Y = [[x1 + x2 + rdm.rand()/10.0-0.05] for x1, x2 in X]   # 加上一个随机的噪声，-0.05~0.05的随机数\n"
   ]
  },
  {
   "cell_type": "code",
   "execution_count": 37,
   "metadata": {},
   "outputs": [
    {
     "name": "stdout",
     "output_type": "stream",
     "text": [
      "after 0 training steps, the w1 is:\n",
      "[[-0.81031823]\n",
      " [ 1.4855988 ]]\n",
      "after 1000 training steps, the w1 is:\n",
      "[[0.01247112]\n",
      " [2.1385448 ]]\n",
      "after 2000 training steps, the w1 is:\n",
      "[[0.45567414]\n",
      " [2.1706066 ]]\n",
      "after 3000 training steps, the w1 is:\n",
      "[[0.69968724]\n",
      " [1.8465308 ]]\n",
      "after 4000 training steps, the w1 is:\n",
      "[[0.89886665]\n",
      " [1.2973602 ]]\n",
      "the final w1 is: \n",
      " [[1.019347 ]\n",
      " [1.0428089]]\n"
     ]
    }
   ],
   "source": [
    "# 定义预测多了和预测少了的成本\n",
    "loss_less = 10\n",
    "loss_more = 1\n",
    "\n",
    "# 训练神经网络\n",
    "with tf.Session() as sess:\n",
    "    sess.run(tf.global_variables_initializer())\n",
    "    STEPS = 5000\n",
    "    for i in range(STEPS):\n",
    "        start = (i*batch_size) % 128\n",
    "        end = (i*batch_size) % 128 + batch_size\n",
    "        sess.run(train_step, feed_dict={x: X[start:end], y_: Y[start:end]})\n",
    "        if i % 1000 == 0:\n",
    "            print(\"after %d training steps, the w1 is:\" % (i))\n",
    "            print(sess.run(w1))\n",
    "    print(\"the final w1 is: \\n\", sess.run(w1))"
   ]
  },
  {
   "cell_type": "code",
   "execution_count": 26,
   "metadata": {},
   "outputs": [
    {
     "data": {
      "text/plain": [
       "0.14085955030930958"
      ]
     },
     "execution_count": 26,
     "metadata": {},
     "output_type": "execute_result"
    }
   ],
   "source": [
    "# 产生 -0.05 ~ 0.05 的随机数\n",
    "rdm.rand()                # [0, 1]\n",
    "rdm.rand() / 10.0         # [0, 0.1]\n",
    "rdm.rand() / 10.0 - 0.05  # [-0.05, 0.05]"
   ]
  },
  {
   "cell_type": "code",
   "execution_count": 38,
   "metadata": {},
   "outputs": [
    {
     "name": "stdout",
     "output_type": "stream",
     "text": [
      "After 0 training step(s), w1 is: \n",
      "[[-0.8123182]\n",
      " [ 1.4835987]] \n",
      "\n",
      "After 1000 training step(s), w1 is: \n",
      "[[0.18643527]\n",
      " [1.0739334 ]] \n",
      "\n",
      "After 2000 training step(s), w1 is: \n",
      "[[0.95444274]\n",
      " [0.98088616]] \n",
      "\n",
      "After 3000 training step(s), w1 is: \n",
      "[[0.9557403]\n",
      " [0.9806633]] \n",
      "\n",
      "After 4000 training step(s), w1 is: \n",
      "[[0.9546602 ]\n",
      " [0.98135227]] \n",
      "\n",
      "Final w1 is: \n",
      " [[0.9552581]\n",
      " [0.9813394]]\n"
     ]
    }
   ],
   "source": [
    "'''\n",
    "    重新定义损失函数，使得预测多了的损失大，于是模型应该偏向少的方向预测\n",
    "'''\n",
    "loss_less = 1\n",
    "loss_more = 10\n",
    "loss = tf.reduce_sum(tf.where(tf.greater(y, y_), (y - y_) * loss_more, (y_ - y) * loss_less))\n",
    "train_step = tf.train.AdamOptimizer(0.001).minimize(loss)\n",
    "\n",
    "with tf.Session() as sess:\n",
    "    init_op = tf.global_variables_initializer()\n",
    "    sess.run(init_op)\n",
    "    STEPS = 5000\n",
    "    for i in range(STEPS):\n",
    "        start = (i*batch_size) % 128\n",
    "        end = (i*batch_size) % 128 + batch_size\n",
    "        sess.run(train_step, feed_dict={x: X[start:end], y_: Y[start:end]})\n",
    "        if i % 1000 == 0:\n",
    "            print(\"After %d training step(s), w1 is: \" % (i))\n",
    "            print(sess.run(w1), \"\\n\")\n",
    "    print(\"Final w1 is: \\n\", sess.run(w1))\n"
   ]
  },
  {
   "cell_type": "code",
   "execution_count": 39,
   "metadata": {},
   "outputs": [
    {
     "name": "stdout",
     "output_type": "stream",
     "text": [
      "After 0 training step(s), w1 is: \n",
      "[[-0.81031823]\n",
      " [ 1.4855988 ]] \n",
      "\n",
      "After 1000 training step(s), w1 is: \n",
      "[[-0.13337609]\n",
      " [ 1.8130922 ]] \n",
      "\n",
      "After 2000 training step(s), w1 is: \n",
      "[[0.321903 ]\n",
      " [1.5246348]] \n",
      "\n",
      "After 3000 training step(s), w1 is: \n",
      "[[0.67850214]\n",
      " [1.2529727 ]] \n",
      "\n",
      "After 4000 training step(s), w1 is: \n",
      "[[0.89474  ]\n",
      " [1.0859823]] \n",
      "\n",
      "Final w1 is: \n",
      " [[0.9743756]\n",
      " [1.0243336]]\n"
     ]
    }
   ],
   "source": [
    "'''\n",
    "    定义损失函数为MSE。\n",
    "'''\n",
    "\n",
    "loss = tf.losses.mean_squared_error(y, y_)\n",
    "train_step = tf.train.AdamOptimizer(0.001).minimize(loss)\n",
    "\n",
    "with tf.Session() as sess:\n",
    "    init_op = tf.global_variables_initializer()\n",
    "    sess.run(init_op)\n",
    "    STEPS = 5000\n",
    "    for i in range(STEPS):\n",
    "        start = (i*batch_size) % 128\n",
    "        end = (i*batch_size) % 128 + batch_size\n",
    "        sess.run(train_step, feed_dict={x: X[start:end], y_: Y[start:end]})\n",
    "        if i % 1000 == 0:\n",
    "            print(\"After %d training step(s), w1 is: \" % (i))\n",
    "            print(sess.run(w1), \"\\n\")\n",
    "    print(\"Final w1 is: \\n\", sess.run(w1))"
   ]
  },
  {
   "cell_type": "markdown",
   "metadata": {},
   "source": [
    "### 过拟合问题"
   ]
  },
  {
   "cell_type": "code",
   "execution_count": null,
   "metadata": {},
   "outputs": [],
   "source": [
    "w = tf.Variable(tf.random_normal([2,1], stddev=1, seed=1))\n",
    "y = tf.matmul(x, w)\n",
    "\n",
    "loss = tf.reduce_mean(tf.square(y_ - y)) + tf.contrib,layers.l2_regularizer(lambda)(w)\n"
   ]
  },
  {
   "cell_type": "code",
   "execution_count": 40,
   "metadata": {},
   "outputs": [
    {
     "name": "stdout",
     "output_type": "stream",
     "text": [
      "5.0\n"
     ]
    }
   ],
   "source": [
    "weights = tf.constant([[1.0, -2.0], [-3.0, 4.0]])\n",
    "with tf.Session() as sess:\n",
    "    print(sess.run(tf.contrib.layers.l1_regularizer(.5)(weights)))"
   ]
  },
  {
   "cell_type": "code",
   "execution_count": 64,
   "metadata": {},
   "outputs": [
    {
     "ename": "ValueError",
     "evalue": "c of shape (150, 1) not acceptable as a color sequence for x with size 150, y with size 150",
     "output_type": "error",
     "traceback": [
      "\u001b[0;31m---------------------------------------------------------------------------\u001b[0m",
      "\u001b[0;31mTypeError\u001b[0m                                 Traceback (most recent call last)",
      "\u001b[0;32m~/anaconda3/lib/python3.6/site-packages/matplotlib/colors.py\u001b[0m in \u001b[0;36mto_rgba\u001b[0;34m(c, alpha)\u001b[0m\n\u001b[1;32m    165\u001b[0m     \u001b[0;32mtry\u001b[0m\u001b[0;34m:\u001b[0m\u001b[0;34m\u001b[0m\u001b[0m\n\u001b[0;32m--> 166\u001b[0;31m         \u001b[0mrgba\u001b[0m \u001b[0;34m=\u001b[0m \u001b[0m_colors_full_map\u001b[0m\u001b[0;34m.\u001b[0m\u001b[0mcache\u001b[0m\u001b[0;34m[\u001b[0m\u001b[0mc\u001b[0m\u001b[0;34m,\u001b[0m \u001b[0malpha\u001b[0m\u001b[0;34m]\u001b[0m\u001b[0;34m\u001b[0m\u001b[0m\n\u001b[0m\u001b[1;32m    167\u001b[0m     \u001b[0;32mexcept\u001b[0m \u001b[0;34m(\u001b[0m\u001b[0mKeyError\u001b[0m\u001b[0;34m,\u001b[0m \u001b[0mTypeError\u001b[0m\u001b[0;34m)\u001b[0m\u001b[0;34m:\u001b[0m  \u001b[0;31m# Not in cache, or unhashable.\u001b[0m\u001b[0;34m\u001b[0m\u001b[0m\n",
      "\u001b[0;31mTypeError\u001b[0m: unhashable type: 'numpy.ndarray'",
      "\nDuring handling of the above exception, another exception occurred:\n",
      "\u001b[0;31mValueError\u001b[0m                                Traceback (most recent call last)",
      "\u001b[0;32m~/anaconda3/lib/python3.6/site-packages/matplotlib/axes/_axes.py\u001b[0m in \u001b[0;36mscatter\u001b[0;34m(self, x, y, s, c, marker, cmap, norm, vmin, vmax, alpha, linewidths, verts, edgecolors, **kwargs)\u001b[0m\n\u001b[1;32m   4273\u001b[0m                 \u001b[0;31m# must be acceptable as PathCollection facecolors\u001b[0m\u001b[0;34m\u001b[0m\u001b[0;34m\u001b[0m\u001b[0m\n\u001b[0;32m-> 4274\u001b[0;31m                 \u001b[0mcolors\u001b[0m \u001b[0;34m=\u001b[0m \u001b[0mmcolors\u001b[0m\u001b[0;34m.\u001b[0m\u001b[0mto_rgba_array\u001b[0m\u001b[0;34m(\u001b[0m\u001b[0mc\u001b[0m\u001b[0;34m)\u001b[0m\u001b[0;34m\u001b[0m\u001b[0m\n\u001b[0m\u001b[1;32m   4275\u001b[0m             \u001b[0;32mexcept\u001b[0m \u001b[0mValueError\u001b[0m\u001b[0;34m:\u001b[0m\u001b[0;34m\u001b[0m\u001b[0m\n",
      "\u001b[0;32m~/anaconda3/lib/python3.6/site-packages/matplotlib/colors.py\u001b[0m in \u001b[0;36mto_rgba_array\u001b[0;34m(c, alpha)\u001b[0m\n\u001b[1;32m    266\u001b[0m     \u001b[0;32mfor\u001b[0m \u001b[0mi\u001b[0m\u001b[0;34m,\u001b[0m \u001b[0mcc\u001b[0m \u001b[0;32min\u001b[0m \u001b[0menumerate\u001b[0m\u001b[0;34m(\u001b[0m\u001b[0mc\u001b[0m\u001b[0;34m)\u001b[0m\u001b[0;34m:\u001b[0m\u001b[0;34m\u001b[0m\u001b[0m\n\u001b[0;32m--> 267\u001b[0;31m         \u001b[0mresult\u001b[0m\u001b[0;34m[\u001b[0m\u001b[0mi\u001b[0m\u001b[0;34m]\u001b[0m \u001b[0;34m=\u001b[0m \u001b[0mto_rgba\u001b[0m\u001b[0;34m(\u001b[0m\u001b[0mcc\u001b[0m\u001b[0;34m,\u001b[0m \u001b[0malpha\u001b[0m\u001b[0;34m)\u001b[0m\u001b[0;34m\u001b[0m\u001b[0m\n\u001b[0m\u001b[1;32m    268\u001b[0m     \u001b[0;32mreturn\u001b[0m \u001b[0mresult\u001b[0m\u001b[0;34m\u001b[0m\u001b[0m\n",
      "\u001b[0;32m~/anaconda3/lib/python3.6/site-packages/matplotlib/colors.py\u001b[0m in \u001b[0;36mto_rgba\u001b[0;34m(c, alpha)\u001b[0m\n\u001b[1;32m    167\u001b[0m     \u001b[0;32mexcept\u001b[0m \u001b[0;34m(\u001b[0m\u001b[0mKeyError\u001b[0m\u001b[0;34m,\u001b[0m \u001b[0mTypeError\u001b[0m\u001b[0;34m)\u001b[0m\u001b[0;34m:\u001b[0m  \u001b[0;31m# Not in cache, or unhashable.\u001b[0m\u001b[0;34m\u001b[0m\u001b[0m\n\u001b[0;32m--> 168\u001b[0;31m         \u001b[0mrgba\u001b[0m \u001b[0;34m=\u001b[0m \u001b[0m_to_rgba_no_colorcycle\u001b[0m\u001b[0;34m(\u001b[0m\u001b[0mc\u001b[0m\u001b[0;34m,\u001b[0m \u001b[0malpha\u001b[0m\u001b[0;34m)\u001b[0m\u001b[0;34m\u001b[0m\u001b[0m\n\u001b[0m\u001b[1;32m    169\u001b[0m         \u001b[0;32mtry\u001b[0m\u001b[0;34m:\u001b[0m\u001b[0;34m\u001b[0m\u001b[0m\n",
      "\u001b[0;32m~/anaconda3/lib/python3.6/site-packages/matplotlib/colors.py\u001b[0m in \u001b[0;36m_to_rgba_no_colorcycle\u001b[0;34m(c, alpha)\u001b[0m\n\u001b[1;32m    222\u001b[0m     \u001b[0;32mif\u001b[0m \u001b[0mlen\u001b[0m\u001b[0;34m(\u001b[0m\u001b[0mc\u001b[0m\u001b[0;34m)\u001b[0m \u001b[0;32mnot\u001b[0m \u001b[0;32min\u001b[0m \u001b[0;34m[\u001b[0m\u001b[0;36m3\u001b[0m\u001b[0;34m,\u001b[0m \u001b[0;36m4\u001b[0m\u001b[0;34m]\u001b[0m\u001b[0;34m:\u001b[0m\u001b[0;34m\u001b[0m\u001b[0m\n\u001b[0;32m--> 223\u001b[0;31m         \u001b[0;32mraise\u001b[0m \u001b[0mValueError\u001b[0m\u001b[0;34m(\u001b[0m\u001b[0;34m\"RGBA sequence should have length 3 or 4\"\u001b[0m\u001b[0;34m)\u001b[0m\u001b[0;34m\u001b[0m\u001b[0m\n\u001b[0m\u001b[1;32m    224\u001b[0m     \u001b[0;32mif\u001b[0m \u001b[0mlen\u001b[0m\u001b[0;34m(\u001b[0m\u001b[0mc\u001b[0m\u001b[0;34m)\u001b[0m \u001b[0;34m==\u001b[0m \u001b[0;36m3\u001b[0m \u001b[0;32mand\u001b[0m \u001b[0malpha\u001b[0m \u001b[0;32mis\u001b[0m \u001b[0;32mNone\u001b[0m\u001b[0;34m:\u001b[0m\u001b[0;34m\u001b[0m\u001b[0m\n",
      "\u001b[0;31mValueError\u001b[0m: RGBA sequence should have length 3 or 4",
      "\nDuring handling of the above exception, another exception occurred:\n",
      "\u001b[0;31mValueError\u001b[0m                                Traceback (most recent call last)",
      "\u001b[0;32m<ipython-input-64-8ae7eef03070>\u001b[0m in \u001b[0;36m<module>\u001b[0;34m()\u001b[0m\n\u001b[1;32m     21\u001b[0m \u001b[0mlabel\u001b[0m \u001b[0;34m=\u001b[0m \u001b[0mnp\u001b[0m\u001b[0;34m.\u001b[0m\u001b[0mhstack\u001b[0m\u001b[0;34m(\u001b[0m\u001b[0mlabel\u001b[0m\u001b[0;34m)\u001b[0m\u001b[0;34m.\u001b[0m\u001b[0mreshape\u001b[0m\u001b[0;34m(\u001b[0m\u001b[0;34m-\u001b[0m\u001b[0;36m1\u001b[0m\u001b[0;34m,\u001b[0m \u001b[0;36m1\u001b[0m\u001b[0;34m)\u001b[0m\u001b[0;34m\u001b[0m\u001b[0m\n\u001b[1;32m     22\u001b[0m plt.scatter(data[:,0], data[:,1], c=label,\n\u001b[0;32m---> 23\u001b[0;31m            cmap=\"RdBu\", vmin=-.2, vmax=1.2, edgecolor=\"white\")\n\u001b[0m\u001b[1;32m     24\u001b[0m \u001b[0mplt\u001b[0m\u001b[0;34m.\u001b[0m\u001b[0mshow\u001b[0m\u001b[0;34m(\u001b[0m\u001b[0;34m)\u001b[0m\u001b[0;34m\u001b[0m\u001b[0m\n",
      "\u001b[0;32m~/anaconda3/lib/python3.6/site-packages/matplotlib/pyplot.py\u001b[0m in \u001b[0;36mscatter\u001b[0;34m(x, y, s, c, marker, cmap, norm, vmin, vmax, alpha, linewidths, verts, edgecolors, hold, data, **kwargs)\u001b[0m\n\u001b[1;32m   3468\u001b[0m                          \u001b[0mvmin\u001b[0m\u001b[0;34m=\u001b[0m\u001b[0mvmin\u001b[0m\u001b[0;34m,\u001b[0m \u001b[0mvmax\u001b[0m\u001b[0;34m=\u001b[0m\u001b[0mvmax\u001b[0m\u001b[0;34m,\u001b[0m \u001b[0malpha\u001b[0m\u001b[0;34m=\u001b[0m\u001b[0malpha\u001b[0m\u001b[0;34m,\u001b[0m\u001b[0;34m\u001b[0m\u001b[0m\n\u001b[1;32m   3469\u001b[0m                          \u001b[0mlinewidths\u001b[0m\u001b[0;34m=\u001b[0m\u001b[0mlinewidths\u001b[0m\u001b[0;34m,\u001b[0m \u001b[0mverts\u001b[0m\u001b[0;34m=\u001b[0m\u001b[0mverts\u001b[0m\u001b[0;34m,\u001b[0m\u001b[0;34m\u001b[0m\u001b[0m\n\u001b[0;32m-> 3470\u001b[0;31m                          edgecolors=edgecolors, data=data, **kwargs)\n\u001b[0m\u001b[1;32m   3471\u001b[0m     \u001b[0;32mfinally\u001b[0m\u001b[0;34m:\u001b[0m\u001b[0;34m\u001b[0m\u001b[0m\n\u001b[1;32m   3472\u001b[0m         \u001b[0max\u001b[0m\u001b[0;34m.\u001b[0m\u001b[0m_hold\u001b[0m \u001b[0;34m=\u001b[0m \u001b[0mwashold\u001b[0m\u001b[0;34m\u001b[0m\u001b[0m\n",
      "\u001b[0;32m~/anaconda3/lib/python3.6/site-packages/matplotlib/__init__.py\u001b[0m in \u001b[0;36minner\u001b[0;34m(ax, *args, **kwargs)\u001b[0m\n\u001b[1;32m   1853\u001b[0m                         \u001b[0;34m\"the Matplotlib list!)\"\u001b[0m \u001b[0;34m%\u001b[0m \u001b[0;34m(\u001b[0m\u001b[0mlabel_namer\u001b[0m\u001b[0;34m,\u001b[0m \u001b[0mfunc\u001b[0m\u001b[0;34m.\u001b[0m\u001b[0m__name__\u001b[0m\u001b[0;34m)\u001b[0m\u001b[0;34m,\u001b[0m\u001b[0;34m\u001b[0m\u001b[0m\n\u001b[1;32m   1854\u001b[0m                         RuntimeWarning, stacklevel=2)\n\u001b[0;32m-> 1855\u001b[0;31m             \u001b[0;32mreturn\u001b[0m \u001b[0mfunc\u001b[0m\u001b[0;34m(\u001b[0m\u001b[0max\u001b[0m\u001b[0;34m,\u001b[0m \u001b[0;34m*\u001b[0m\u001b[0margs\u001b[0m\u001b[0;34m,\u001b[0m \u001b[0;34m**\u001b[0m\u001b[0mkwargs\u001b[0m\u001b[0;34m)\u001b[0m\u001b[0;34m\u001b[0m\u001b[0m\n\u001b[0m\u001b[1;32m   1856\u001b[0m \u001b[0;34m\u001b[0m\u001b[0m\n\u001b[1;32m   1857\u001b[0m         inner.__doc__ = _add_data_doc(inner.__doc__,\n",
      "\u001b[0;32m~/anaconda3/lib/python3.6/site-packages/matplotlib/axes/_axes.py\u001b[0m in \u001b[0;36mscatter\u001b[0;34m(self, x, y, s, c, marker, cmap, norm, vmin, vmax, alpha, linewidths, verts, edgecolors, **kwargs)\u001b[0m\n\u001b[1;32m   4277\u001b[0m                 raise ValueError(\"c of shape {} not acceptable as a color \"\n\u001b[1;32m   4278\u001b[0m                                  \u001b[0;34m\"sequence for x with size {}, y with size {}\"\u001b[0m\u001b[0;34m\u001b[0m\u001b[0m\n\u001b[0;32m-> 4279\u001b[0;31m                                  .format(c.shape, x.size, y.size))\n\u001b[0m\u001b[1;32m   4280\u001b[0m         \u001b[0;32melse\u001b[0m\u001b[0;34m:\u001b[0m\u001b[0;34m\u001b[0m\u001b[0m\n\u001b[1;32m   4281\u001b[0m             \u001b[0mcolors\u001b[0m \u001b[0;34m=\u001b[0m \u001b[0;32mNone\u001b[0m  \u001b[0;31m# use cmap, norm after collection is created\u001b[0m\u001b[0;34m\u001b[0m\u001b[0m\n",
      "\u001b[0;31mValueError\u001b[0m: c of shape (150, 1) not acceptable as a color sequence for x with size 150, y with size 150"
     ]
    },
    {
     "data": {
      "image/png": "[encoded data removed]",
      "text/plain": [
       "<Figure size 432x288 with 1 Axes>"
      ]
     },
     "metadata": {},
     "output_type": "display_data"
    }
   ],
   "source": [
    "import tensorflow as tf\n",
    "import matplotlib.pyplot as plt\n",
    "import numpy as np\n",
    "\n",
    "data = []\n",
    "label = []\n",
    "np.random.seed(0)\n",
    "\n",
    "# 以原点为圆心，半径为1的圆把散点划分成红蓝两部分，并加入随机噪音。\n",
    "for i in range(150):\n",
    "    x1 = np.random.uniform(-1,1)\n",
    "    x2 = np.random.uniform(0,2)\n",
    "    if x1**2 + x2**2 <= 1:\n",
    "        data.append([np.random.normal(x1, 0.1),np.random.normal(x2,0.1)])\n",
    "        label.append(0)\n",
    "    else:\n",
    "        data.append([np.random.normal(x1, 0.1), np.random.normal(x2, 0.1)])\n",
    "        label.append(1)\n",
    "        \n",
    "data = np.hstack(data).reshape(-1,2)\n",
    "label = np.hstack(label).reshape(-1, 1)\n",
    "plt.scatter(data[:,0], data[:,1], c=label,\n",
    "           cmap=\"RdBu\", vmin=-.2, vmax=1.2, edgecolor=\"white\")\n",
    "plt.show()"
   ]
  },
  {
   "cell_type": "code",
   "execution_count": 60,
   "metadata": {},
   "outputs": [
    {
     "data": {
      "text/plain": [
       "[[-0.21877316582119757, 1.3333521246686992],\n",
       " [-0.03198387511701212, 1.0015127779172035],\n",
       " [-0.4448847068324677, 1.5502208018321255],\n",
       " [-0.6058491785759887, 0.2862138514383545],\n",
       " [0.735535483837033, 1.7014274852155575],\n",
       " [0.8057171425797117, 1.1808029409299956],\n",
       " [0.4630874502896085, 1.6008785578773126],\n",
       " [-0.8203367948073176, 0.9488225990256289],\n",
       " [-0.49316659283926245, 0.17553658008668338],\n",
       " [-0.1285847163028512, 0.13016666001587],\n",
       " [0.159427518570407, 1.3107538236333787],\n",
       " [0.3938810909330931, 0.7646589743968699],\n",
       " [0.33960518568774056, 1.091498535087359],\n",
       " [0.8368208625713497, 0.23972442364312319],\n",
       " [-0.22553574936641066, 0.38937071335208534],\n",
       " [0.5301829387977369, 1.5405100871279758],\n",
       " [0.5531778500964752, 0.6679874004454135],\n",
       " [-0.03065468151226748, 2.081661775938991],\n",
       " [-0.5519505134399335, 1.7593288838653287],\n",
       " [-0.16772268753265462, 0.5616708525976779],\n",
       " [-0.9626958512135215, 1.0320697056590475],\n",
       " [0.7948936721579873, 0.790740638036202],\n",
       " [-0.9905903285679234, 1.8387986605945228],\n",
       " [0.8850208980870041, 1.4055371875605462],\n",
       " [0.4352316443560872, 0.36149031473552135],\n",
       " [0.06811546236252033, 1.6201887439737892],\n",
       " [0.1371331753594682, 1.9435511823227738],\n",
       " [0.5565524888826329, 0.5883993181625907],\n",
       " [0.6175925245447531, 1.5111815287802361],\n",
       " [-0.8061089758659492, 0.14731685130068123],\n",
       " [-0.017877767916390702, 0.05662789952246088],\n",
       " [-0.4602939129929424, 1.3564233670264427],\n",
       " [0.9361704272500195, 1.532080367509741],\n",
       " [0.23744974117518167, 1.5804456371834414],\n",
       " [0.02686073686198548, 1.2613192772182447],\n",
       " [-0.01803036499772498, 1.5770033935674064],\n",
       " [-0.990336144709813, 0.7952221454258341],\n",
       " [0.5847917940695625, 0.07071988974025072],\n",
       " [-0.53294533156621, 1.2835784916022948],\n",
       " [-0.38651784332519123, 0.20696334535454838],\n",
       " [0.868578237442319, 1.877714259393413],\n",
       " [0.9236016944120331, 1.1815615170767613],\n",
       " [-0.1161021115315661, 1.1906792988912454],\n",
       " [0.8964992977697654, 1.8274513479388623],\n",
       " [-0.6503477258090709, 0.1404571660045858],\n",
       " [-1.008659835243627, 1.7962377396703357],\n",
       " [-0.6884851779803702, 1.601511068278914],\n",
       " [0.3830983327911335, 1.568027876534579],\n",
       " [0.8500397529847186, 0.5465742256967492],\n",
       " [-0.8357877376395694, 1.1582320300456725],\n",
       " [-0.49676626933385354, 1.8171321890966459],\n",
       " [0.5648137650092769, 1.1623261477186317],\n",
       " [0.38620418084312313, 1.829892285580324],\n",
       " [0.39989807278220424, 1.7687972858174363],\n",
       " [-0.36861550857904923, 1.2156949016768719],\n",
       " [0.4700765577564677, 1.4785150587396467],\n",
       " [0.20838241492344967, 0.72567901678682],\n",
       " [-0.3089523729168916, 0.830375782286918],\n",
       " [0.9149542060466861, 1.2213342039308785],\n",
       " [-0.4369928581052937, 1.682861500682063],\n",
       " [-0.3545125969666977, 1.7227060433658774],\n",
       " [0.3008575884451986, 1.4772253202175651],\n",
       " [0.0831385646111743, 0.9115359708950721],\n",
       " [-0.21988469723562085, 0.17943517328390512],\n",
       " [0.3647800475930359, 1.0156767519461087],\n",
       " [-0.47707547845146325, 0.5325828980720677],\n",
       " [0.7827897505735937, 1.788172552072829],\n",
       " [-0.7002061720393785, 1.0666394939265693],\n",
       " [-0.32287939183299286, 1.5727710576169602],\n",
       " [-0.8119762215361539, 0.3976874002132028],\n",
       " [-0.48953936752792904, 1.3021786634980692],\n",
       " [-0.7002866473471586, 1.3504876026475519],\n",
       " [0.6500946658857223, 0.007217024099290294],\n",
       " [0.717894026289045, 1.1031279297354142],\n",
       " [-0.7189127244158764, 1.4569445757624304],\n",
       " [0.6751110894818492, 0.15763332118975684],\n",
       " [-0.6246908158324778, 0.637363904727137],\n",
       " [0.5149861877458949, 0.8485415657240565],\n",
       " [0.8086918922784984, 1.1042312332755182],\n",
       " [0.8761790474324834, 1.100234318383231],\n",
       " [-0.2393560024385729, -0.01563067950814201],\n",
       " [-0.8974704196449361, 0.8115632595890476],\n",
       " [0.5884626161542206, 0.23015790932735927],\n",
       " [0.8964862257958991, 0.3197546904818266],\n",
       " [0.5016800942307033, 0.844481295342663],\n",
       " [-0.4637384545104546, 1.6277351935448214],\n",
       " [0.06511795936163145, 1.5821750839556326],\n",
       " [0.9843266573821748, 1.6028029382365272],\n",
       " [-0.5707322639630823, 0.4544170608194186],\n",
       " [-0.7198542018779626, 1.3631856916363054],\n",
       " [0.5086285685763227, 0.8004370282958622],\n",
       " [0.5483177612716693, 1.242312918570665],\n",
       " [-0.7992903762435666, 1.447919278012777],\n",
       " [-0.34583441177470303, 0.6887571018098396],\n",
       " [0.5621037562770219, 0.8371377750756148],\n",
       " [0.22602798480781028, 0.02158341721406635],\n",
       " [0.8855676870059374, 1.793386032974757],\n",
       " [-0.5237239364616596, 1.3369935979246186],\n",
       " [0.7484519664627912, 0.748025162354708],\n",
       " [-0.8059597025997043, 1.5579763721869977],\n",
       " [0.44384601670022633, 0.6564239400253533],\n",
       " [0.8730530237116114, 0.4548598409371766],\n",
       " [0.9362376157871692, 0.09432543688714354],\n",
       " [-0.8600974307695002, 1.0027995635339182],\n",
       " [0.3308159085889839, 1.301902336633472],\n",
       " [-0.5953988606484335, 0.0901761156816131],\n",
       " [-0.11934412757220472, 1.7880221876361837],\n",
       " [-0.26901099598913075, 1.846176336406906],\n",
       " [-0.5139023098239524, 0.5263277475437258],\n",
       " [0.5305144291902972, 0.44971362049816954],\n",
       " [0.14490138519384832, 0.9090356998016487],\n",
       " [0.07475514953574403, 0.4727302194554687],\n",
       " [0.9096924405227323, 1.8117716099910712],\n",
       " [-1.0270924812727753, 0.047726543682181974],\n",
       " [0.9958616635960973, 0.44638401902955116],\n",
       " [0.5134904630583734, 0.9476994178649057],\n",
       " [-0.14052919717052287, 1.0263939429712803],\n",
       " [0.9997941291653981, 0.23104367069603077],\n",
       " [0.4723024453908002, 0.8527186060730246],\n",
       " [-0.03887737047661871, 1.3827147319165631],\n",
       " [-0.8333241045000401, 1.1497348247024275],\n",
       " [0.013183544813223438, 1.8246071155680008],\n",
       " [0.7416835761012471, 1.4772838625455829],\n",
       " [-0.5677774601645234, 1.2560706629402902],\n",
       " [0.6265111688547729, 0.4901631143854447],\n",
       " [0.4943751723985463, 0.967287998343922],\n",
       " [-0.4627138914661198, 1.4444055677959333],\n",
       " [0.42641210600886537, 0.38340909509095117],\n",
       " [-0.610463883500921, 0.8150166682631532],\n",
       " [-0.7939253944665103, 0.6399381310234913],\n",
       " [-0.31322210363387326, 1.657830978053288],\n",
       " [0.370209818904054, 0.9081441244178261],\n",
       " [-0.09252419580579826, 0.7389117214317706],\n",
       " [-0.6992408488788016, 1.355248359318926],\n",
       " [0.3216915803874051, 1.6683161676289135],\n",
       " [-0.4195698999397601, 1.5262325095515088],\n",
       " [0.5228789435339871, 0.15747668305595292],\n",
       " [-0.1569182876615362, 0.37645344073946585],\n",
       " [-0.1837069156693022, 0.27003438349408554],\n",
       " [-0.3117750675744694, 0.23505997715033944],\n",
       " [0.9150387739681454, 0.3632909696090937],\n",
       " [0.7436134906404763, 0.39889887356162224],\n",
       " [-0.6308004075994497, 1.0263676155183203],\n",
       " [0.4639342615482145, 0.46381561364907226],\n",
       " [-0.18072135677270712, 1.6935353804022055],\n",
       " [0.5445330970110669, 1.5005988168370479],\n",
       " [0.6633398669125254, 1.145803941350297],\n",
       " [-1.0189417051127583, 1.588064810821632],\n",
       " [-0.6900654985633452, 0.40522697730075374],\n",
       " [0.0438835814190963, 0.5002702010398279]]"
      ]
     },
     "execution_count": 60,
     "metadata": {},
     "output_type": "execute_result"
    }
   ],
   "source": [
    "data"
   ]
  },
  {
   "cell_type": "code",
   "execution_count": 61,
   "metadata": {},
   "outputs": [
    {
     "data": {
      "text/plain": [
       "[1,\n",
       " 1,\n",
       " 1,\n",
       " 0,\n",
       " 1,\n",
       " 1,\n",
       " 1,\n",
       " 1,\n",
       " 0,\n",
       " 0,\n",
       " 1,\n",
       " 0,\n",
       " 1,\n",
       " 0,\n",
       " 0,\n",
       " 1,\n",
       " 0,\n",
       " 1,\n",
       " 1,\n",
       " 0,\n",
       " 1,\n",
       " 1,\n",
       " 1,\n",
       " 1,\n",
       " 0,\n",
       " 1,\n",
       " 1,\n",
       " 0,\n",
       " 1,\n",
       " 0,\n",
       " 0,\n",
       " 1,\n",
       " 1,\n",
       " 1,\n",
       " 1,\n",
       " 1,\n",
       " 1,\n",
       " 0,\n",
       " 1,\n",
       " 0,\n",
       " 1,\n",
       " 1,\n",
       " 0,\n",
       " 1,\n",
       " 0,\n",
       " 1,\n",
       " 1,\n",
       " 1,\n",
       " 0,\n",
       " 1,\n",
       " 1,\n",
       " 1,\n",
       " 1,\n",
       " 1,\n",
       " 1,\n",
       " 1,\n",
       " 0,\n",
       " 0,\n",
       " 1,\n",
       " 1,\n",
       " 1,\n",
       " 1,\n",
       " 0,\n",
       " 0,\n",
       " 1,\n",
       " 0,\n",
       " 1,\n",
       " 1,\n",
       " 1,\n",
       " 0,\n",
       " 1,\n",
       " 1,\n",
       " 0,\n",
       " 1,\n",
       " 1,\n",
       " 0,\n",
       " 0,\n",
       " 1,\n",
       " 1,\n",
       " 1,\n",
       " 0,\n",
       " 1,\n",
       " 0,\n",
       " 1,\n",
       " 1,\n",
       " 1,\n",
       " 1,\n",
       " 1,\n",
       " 0,\n",
       " 1,\n",
       " 0,\n",
       " 1,\n",
       " 1,\n",
       " 0,\n",
       " 1,\n",
       " 0,\n",
       " 1,\n",
       " 1,\n",
       " 1,\n",
       " 1,\n",
       " 0,\n",
       " 1,\n",
       " 0,\n",
       " 1,\n",
       " 1,\n",
       " 0,\n",
       " 1,\n",
       " 1,\n",
       " 0,\n",
       " 0,\n",
       " 0,\n",
       " 0,\n",
       " 1,\n",
       " 0,\n",
       " 1,\n",
       " 1,\n",
       " 0,\n",
       " 1,\n",
       " 1,\n",
       " 1,\n",
       " 1,\n",
       " 1,\n",
       " 1,\n",
       " 1,\n",
       " 0,\n",
       " 1,\n",
       " 1,\n",
       " 0,\n",
       " 1,\n",
       " 0,\n",
       " 1,\n",
       " 1,\n",
       " 0,\n",
       " 1,\n",
       " 1,\n",
       " 1,\n",
       " 0,\n",
       " 0,\n",
       " 0,\n",
       " 0,\n",
       " 1,\n",
       " 0,\n",
       " 1,\n",
       " 0,\n",
       " 1,\n",
       " 1,\n",
       " 1,\n",
       " 1,\n",
       " 0,\n",
       " 0]"
      ]
     },
     "execution_count": 61,
     "metadata": {},
     "output_type": "execute_result"
    }
   ],
   "source": [
    "label"
   ]
  },
  {
   "cell_type": "code",
   "execution_count": 54,
   "metadata": {},
   "outputs": [
    {
     "data": {
      "text/plain": [
       "0.36322570266152754"
      ]
     },
     "execution_count": 54,
     "metadata": {},
     "output_type": "execute_result"
    }
   ],
   "source": [
    "x2"
   ]
  },
  {
   "cell_type": "code",
   "execution_count": null,
   "metadata": {},
   "outputs": [],
   "source": []
  },
  {
   "cell_type": "code",
   "execution_count": null,
   "metadata": {},
   "outputs": [],
   "source": []
  },
  {
   "cell_type": "code",
   "execution_count": null,
   "metadata": {},
   "outputs": [],
   "source": []
  },
  {
   "cell_type": "code",
   "execution_count": null,
   "metadata": {},
   "outputs": [],
   "source": []
  }
 ],
 "metadata": {
  "kernelspec": {
   "display_name": "Python 3",
   "language": "python",
   "name": "python3"
  },
  "language_info": {
   "codemirror_mode": {
    "name": "ipython",
    "version": 3
   },
   "file_extension": ".py",
   "mimetype": "text/x-python",
   "name": "python",
   "nbconvert_exporter": "python",
   "pygments_lexer": "ipython3",
   "version": "3.6.5"
  }
 },
 "nbformat": 4,
 "nbformat_minor": 2
}

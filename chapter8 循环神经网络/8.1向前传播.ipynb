{
 "cells": [
  {
   "cell_type": "code",
   "execution_count": 2,
   "metadata": {},
   "outputs": [
    {
     "name": "stdout",
     "output_type": "stream",
     "text": [
      "before_activation: [0.6 0.5]\n",
      "state： [0.53704957 0.46211716]\n",
      "final_output [1.56128388]\n",
      "before_activation: [1.2923401  1.39225678]\n",
      "state： [0.85973818 0.88366641]\n",
      "final_output [2.72707101]\n"
     ]
    }
   ],
   "source": [
    "'''\n",
    "    矩阵乘法 np.dot()\n",
    "'''\n",
    "import numpy as np\n",
    "\n",
    "X=[1,2]\n",
    "state = [0.0, 0.0]\n",
    "\n",
    "# 定义循环体内的全连接神经网络的权重weight和偏置项bias\n",
    "# 因为rnn中状态向量和输入向量是拼接到一起的，所以它们各自的权重也分开定义\n",
    "w_cell_state = np.asarray([[0.1, 0.2], [0.3, 0.4]])\n",
    "w_cell_input = np.asarray([0.5, 0.6])\n",
    "b_cell = np.asarray([0.1, -0.1])\n",
    "\n",
    "# 定义输出的全连接网络的参数\n",
    "w_output = np.asarray([[1.0], [2.0]])\n",
    "b_output = 0.1\n",
    "\n",
    "# 按时间顺序执行循环神经网络的向前传播过程\n",
    "for i in range(len(X)):\n",
    "    # 计算循环体中的全连接层神经网络\n",
    "    before_activation = np.dot(state, w_cell_state) + X[i] * w_cell_input + b_cell\n",
    "    state = np.tanh(before_activation)\n",
    "    \n",
    "    # 根据当前时刻状态计算最终输出\n",
    "    final_output = np.dot(state, w_output) + b_output\n",
    "    \n",
    "    # 输出每个时刻的信息\n",
    "    print(\"before_activation:\", before_activation)\n",
    "    print(\"state：\",state)\n",
    "    print(\"final_output\",final_output)"
   ]
  },
  {
   "cell_type": "code",
   "execution_count": 4,
   "metadata": {},
   "outputs": [
    {
     "data": {
      "text/plain": [
       "array([3., 6.])"
      ]
     },
     "execution_count": 4,
     "metadata": {},
     "output_type": "execute_result"
    }
   ],
   "source": [
    "np.dot(np.array([1.0,2.0]) , np.array([[1.0, 2.0],[1.0, 2.0]]))"
   ]
  },
  {
   "cell_type": "code",
   "execution_count": 5,
   "metadata": {},
   "outputs": [
    {
     "data": {
      "text/plain": [
       "array([3., 6.])"
      ]
     },
     "execution_count": 5,
     "metadata": {},
     "output_type": "execute_result"
    }
   ],
   "source": [
    "np.array([1.0,2.0]).dot(np.array([[1.0, 2.0],[1.0, 2.0]]))"
   ]
  },
  {
   "cell_type": "code",
   "execution_count": 6,
   "metadata": {},
   "outputs": [
    {
     "data": {
      "text/plain": [
       "array([1., 2.])"
      ]
     },
     "execution_count": 6,
     "metadata": {},
     "output_type": "execute_result"
    }
   ],
   "source": [
    "1 * np.array([1.0, 2.0])"
   ]
  },
  {
   "cell_type": "code",
   "execution_count": null,
   "metadata": {},
   "outputs": [],
   "source": []
  }
 ],
 "metadata": {
  "kernelspec": {
   "display_name": "Python 3",
   "language": "python",
   "name": "python3"
  },
  "language_info": {
   "codemirror_mode": {
    "name": "ipython",
    "version": 3
   },
   "file_extension": ".py",
   "mimetype": "text/x-python",
   "name": "python",
   "nbconvert_exporter": "python",
   "pygments_lexer": "ipython3",
   "version": "3.6.5"
  }
 },
 "nbformat": 4,
 "nbformat_minor": 2
}

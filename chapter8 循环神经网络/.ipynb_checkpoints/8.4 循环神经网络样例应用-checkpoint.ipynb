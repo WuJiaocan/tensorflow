{
 "cells": [
  {
   "cell_type": "code",
   "execution_count": 1,
   "metadata": {},
   "outputs": [],
   "source": [
    "# 对函数sinx取值的预测"
   ]
  },
  {
   "cell_type": "code",
   "execution_count": 1,
   "metadata": {},
   "outputs": [
    {
     "name": "stderr",
     "output_type": "stream",
     "text": [
      "/home/wujiaocan/anaconda3/lib/python3.6/site-packages/h5py/__init__.py:36: FutureWarning: Conversion of the second argument of issubdtype from `float` to `np.floating` is deprecated. In future, it will be treated as `np.float64 == np.dtype(float).type`.\n",
      "  from ._conv import register_converters as _register_converters\n"
     ]
    }
   ],
   "source": [
    "import numpy as np\n",
    "import tensorflow as tf\n",
    "import matplotlib.pyplot as plt"
   ]
  },
  {
   "cell_type": "code",
   "execution_count": 2,
   "metadata": {},
   "outputs": [],
   "source": [
    "# 定义RNN参数\n",
    "\n",
    "HIDDEN_SIZE = 30 # LSTM中隐藏节点的个数。\n",
    "NUM_LAYERS = 2   # LSTM的层数。\n",
    "TIMESTEPS = 10   # 循环神经网络的训练序列长度。\n",
    "TRAINING_STEPS = 10000  # 训练轮数。\n",
    "BATCH_SIZE = 32         # batch大小。\n",
    "TRAINING_EXAMPLES = 10000 # 训练数据个数。\n",
    "TESTING_EXAMPLES = 1000   # 测试数据个数。\n",
    "SAMPLE_GAP = 0.01          # 采样间隔。"
   ]
  },
  {
   "cell_type": "code",
   "execution_count": 3,
   "metadata": {},
   "outputs": [],
   "source": [
    "# 产生正弦数据\n",
    "\n",
    "def generate_data(seq):\n",
    "    X = []\n",
    "    y = []\n",
    "    # 序列的第i项和后面的TIMESTEPS-1项合在一起作为输入；第i + TIMESTEPS项作为输\n",
    "    # 出。即用sin函数前面的TIMESTEPS个点的信息，预测第i + TIMESTEPS个点的函数值。\n",
    "    for i in range(len(seq) - TIMESTEPS):\n",
    "        X.append([seq[i: i + TIMESTEPS]])\n",
    "        y.append([seq[i + TIMESTEPS]])\n",
    "    return np.array(X, dtype=np.float32), np.array(y, dtype=np.float32)  "
   ]
  },
  {
   "cell_type": "code",
   "execution_count": null,
   "metadata": {},
   "outputs": [],
   "source": [
    "def generate_data(seq):\n",
    "    x=[]\n",
    "    y=[]\n",
    "    for i in range(len(seq)-TIMESTEPS):\n",
    "        x.append([seq[i:i+TIMESTEPS]])\n",
    "        y.append([seq[i+TIMESTEPS]])\n",
    "    return np.array(x, dtype=np.float32), np.array(y, dtype=np.float32)"
   ]
  },
  {
   "cell_type": "code",
   "execution_count": 4,
   "metadata": {},
   "outputs": [],
   "source": [
    "def lstm_model(X, y, is_training):\n",
    "    # 使用多层的LSTM结构。\n",
    "    cell = tf.nn.rnn_cell.MultiRNNCell([\n",
    "        tf.nn.rnn_cell.BasicLSTMCell(HIDDEN_SIZE) \n",
    "        for _ in range(NUM_LAYERS)])    \n",
    "\n",
    "    # 使用TensorFlow接口将多层的LSTM结构连接成RNN网络并计算其前向传播结果。\n",
    "    # outputs是顶层LSTM在每一步的输出结果，它的维度是[batch_size, time, HIDDEN_SIZE]，本问题中只关注最后一个时刻的输出结果。\n",
    "    outputs, _ = tf.nn.dynamic_rnn(cell, X, dtype=tf.float32)\n",
    "    output = outputs[:, -1, :]\n",
    "\n",
    "    # 对LSTM网络的输出再做加一层全链接层并计算损失。注意这里默认的损失为平均\n",
    "    # 平方差损失函数。\n",
    "    predictions = tf.contrib.layers.fully_connected(\n",
    "        output, 1, activation_fn=None)\n",
    "    \n",
    "    # 只在训练时计算损失函数和优化步骤。测试时直接返回预测结果。\n",
    "    if not is_training:\n",
    "        return predictions, None, None\n",
    "        \n",
    "    # 计算损失函数。\n",
    "    loss = tf.losses.mean_squared_error(labels=y, predictions=predictions)\n",
    "\n",
    "    # 创建模型优化器并得到优化步骤。\n",
    "    train_op = tf.contrib.layers.optimize_loss(\n",
    "        loss, tf.train.get_global_step(),\n",
    "        optimizer=\"Adagrad\", learning_rate=0.1)\n",
    "    return predictions, loss, train_op"
   ]
  },
  {
   "cell_type": "code",
   "execution_count": null,
   "metadata": {},
   "outputs": [],
   "source": [
    "def lstm_model(x,y,is_training):\n",
    "    cell = tf.nn.rnn_cell.MultiRNNCell(\n",
    "        [tf.nn.rnn_cell.BasicLSTMCell(HIDDEN_SIZE) for _ in range(NUM_LAYERS)])\n",
    "    outputs, _ = tf.nn.dynamic_rnn(cell, x, dtype=tf.float32)\n",
    "    output = outputs[:, -1, :]\n",
    "    \n",
    "    predictions = tf.contrib.layers.fully_connected(output, 1, activation_fn=None) # output是NN的输出，1是输出个数\n",
    "    \n",
    "    if not is_training:\n",
    "        return predictions, None, None\n",
    "    \n",
    "    loss = tf.losses.mean_squared_error(labels=y, predictions=predictions)\n",
    "    \n",
    "    train_op = tf.contrib.layers.optimize_loss(\n",
    "        loss, tf.train.get_global_step(), optimizer=\"Adagrad\", learning_rate=0.1)\n",
    "    return predictions, loss, train_op"
   ]
  },
  {
   "cell_type": "code",
   "execution_count": 5,
   "metadata": {},
   "outputs": [],
   "source": [
    "def run_eval(sess, test_X, test_y):\n",
    "    # 将测试数据以数据集的方式提供给计算图。\n",
    "    ds = tf.data.Dataset.from_tensor_slices((test_X, test_y))\n",
    "    ds = ds.batch(1)\n",
    "    X, y = ds.make_one_shot_iterator().get_next()\n",
    "    \n",
    "    # 调用模型得到计算结果。这里不需要输入真实的y值。\n",
    "    with tf.variable_scope(\"model\", reuse=True):\n",
    "        prediction, _, _ = lstm_model(X, [0.0], False)\n",
    "    \n",
    "    # 将预测结果存入一个数组。\n",
    "    predictions = []\n",
    "    labels = []\n",
    "    for i in range(TESTING_EXAMPLES):\n",
    "        p, l = sess.run([prediction, y])\n",
    "        predictions.append(p)\n",
    "        labels.append(l)\n",
    "\n",
    "    # 计算rmse作为评价指标。\n",
    "    predictions = np.array(predictions).squeeze()\n",
    "    labels = np.array(labels).squeeze()\n",
    "    rmse = np.sqrt(((predictions - labels) ** 2).mean(axis=0))\n",
    "    print(\"Root Mean Square Error is: %f\" % rmse)\n",
    "    \n",
    "    #对预测的sin函数曲线进行绘图。\n",
    "    plt.figure()\n",
    "    plt.plot(predictions, label='predictions')\n",
    "    plt.plot(labels, label='real_sin')\n",
    "    plt.legend()\n",
    "    plt.show()"
   ]
  },
  {
   "cell_type": "code",
   "execution_count": null,
   "metadata": {},
   "outputs": [],
   "source": [
    "def run_eval(sess, test_x, test_y):\n",
    "    ds = tf.data.Dataset.from_tensor_slices((test_x, test_y))\n",
    "    ds = ds.batch(1)\n",
    "    x,y = ds.make_one_shot_iterator().get_next()\n",
    "    \n",
    "    with tf.variable_scope(\"model\", reuse=True):\n",
    "        prediction, _, _ = lstm_model(x, [0.0], False)\n",
    "    \n",
    "    predictions=[]\n",
    "    labels=[]\n",
    "    for i in range(TESTING_EXAMPLES):\n",
    "        p, l = sess.run([prediction, y])\n",
    "        predictions.append(p)\n",
    "        labels.append(l)\n",
    "    \n",
    "    predictions = np.array(predictions).squeeze()\n",
    "    labels = np.array(labels).squeeze()\n",
    "    rmse = np.sqrt(((predictions - labels) ** 2).mean(axis=0))\n",
    "    print(\"Mean Square Error is: %f\" % rmse)\n",
    "    \n",
    "    plt.figure()\n",
    "    plt.plot(predictions, label='predictions')\n",
    "    plt.plot(labels, label='real_sin')\n",
    "    plt.legend()\n",
    "    plt.show()"
   ]
  },
  {
   "cell_type": "code",
   "execution_count": 6,
   "metadata": {
    "scrolled": false
   },
   "outputs": [],
   "source": [
    "def train(sess, train_X, train_y):\n",
    "    # 将训练数据以数据集的方式提供给计算图。\n",
    "    ds = tf.data.Dataset.from_tensor_slices((train_X, train_y))\n",
    "    ds = ds.repeat().shuffle(1000).batch(BATCH_SIZE)\n",
    "    X, y = ds.make_one_shot_iterator().get_next()\n",
    "\n",
    "    # 定义模型，得到预测结果、损失函数，和训练操作。\n",
    "    with tf.variable_scope(\"model\"):\n",
    "        predictions, loss, train_op = lstm_model(X, y, True)\n",
    "        \n",
    "    sess.run(tf.global_variables_initializer())\n",
    "\n",
    "    # 训练模型。\n",
    "    for i in range(TRAINING_STEPS):\n",
    "        _, l = sess.run([train_op, loss])\n",
    "        if i % 100 == 0:\n",
    "            print(\"train step: \" + str(i) + \", loss: \" + str(l))"
   ]
  },
  {
   "cell_type": "code",
   "execution_count": null,
   "metadata": {},
   "outputs": [],
   "source": [
    "def train(sess, train_X, train_y):\n",
    "    ds = tf.data.Dataset.from_tensor_slices((train_X, train_y))\n",
    "    ds = ds.repeat().shuffle(1000).batch(BATCH_SIZE)\n",
    "    X, y = ds.make_one_shot_iterator().get_next()\n",
    "    \n",
    "    with tf.variable_scope(\"model\"):\n",
    "        predictions, loss, train_op = lstm_model(X,y,True)\n",
    "    \n",
    "    sess.run(tf.global_variables_initializer())\n",
    "    for i in range(TRAINING_STEPS):\n",
    "        _, l = sess.run([train_op, loss])\n",
    "        if i % 100 == 0:\n",
    "            print(\"train_step:\" + str(i) + \", loss:\" + str(l))"
   ]
  },
  {
   "cell_type": "code",
   "execution_count": 8,
   "metadata": {},
   "outputs": [
    {
     "name": "stdout",
     "output_type": "stream",
     "text": [
      "train step: 0, loss: 0.49304086\n",
      "train step: 100, loss: 0.0050050686\n",
      "train step: 200, loss: 0.0039018341\n",
      "train step: 300, loss: 0.0038500372\n",
      "train step: 400, loss: 0.002484601\n",
      "train step: 500, loss: 0.0025728315\n",
      "train step: 600, loss: 0.0013323617\n",
      "train step: 700, loss: 0.0017153684\n",
      "train step: 800, loss: 0.0014554528\n",
      "train step: 900, loss: 0.001283648\n",
      "train step: 1000, loss: 0.000904711\n",
      "train step: 1100, loss: 0.0008268324\n",
      "train step: 1200, loss: 0.00072004396\n",
      "train step: 1300, loss: 0.0006297104\n",
      "train step: 1400, loss: 0.0007636411\n",
      "train step: 1500, loss: 0.00058646547\n",
      "train step: 1600, loss: 0.00049655733\n",
      "train step: 1700, loss: 0.0004766289\n",
      "train step: 1800, loss: 0.0004250009\n",
      "train step: 1900, loss: 0.00036618137\n",
      "train step: 2000, loss: 0.0004267209\n",
      "train step: 2100, loss: 0.00021648852\n",
      "train step: 2200, loss: 0.00017973996\n",
      "train step: 2300, loss: 0.00019408597\n",
      "train step: 2400, loss: 0.00017385371\n",
      "train step: 2500, loss: 0.00013165278\n",
      "train step: 2600, loss: 0.000104036044\n",
      "train step: 2700, loss: 7.9820704e-05\n",
      "train step: 2800, loss: 7.7267876e-05\n",
      "train step: 2900, loss: 7.250052e-05\n",
      "train step: 3000, loss: 5.0031358e-05\n",
      "train step: 3100, loss: 4.5599743e-05\n",
      "train step: 3200, loss: 2.912805e-05\n",
      "train step: 3300, loss: 2.539624e-05\n",
      "train step: 3400, loss: 2.2077276e-05\n",
      "train step: 3500, loss: 1.9853136e-05\n",
      "train step: 3600, loss: 1.886634e-05\n",
      "train step: 3700, loss: 1.7601062e-05\n",
      "train step: 3800, loss: 1.6388603e-05\n",
      "train step: 3900, loss: 1.4826233e-05\n",
      "train step: 4000, loss: 1.2110822e-05\n",
      "train step: 4100, loss: 1.3919783e-05\n",
      "train step: 4200, loss: 1.1430542e-05\n",
      "train step: 4300, loss: 6.3628718e-06\n",
      "train step: 4400, loss: 1.1655793e-05\n",
      "train step: 4500, loss: 6.580296e-06\n",
      "train step: 4600, loss: 6.4455826e-06\n",
      "train step: 4700, loss: 5.801666e-06\n",
      "train step: 4800, loss: 5.0316767e-06\n",
      "train step: 4900, loss: 4.8027596e-06\n",
      "train step: 5000, loss: 6.034124e-06\n",
      "train step: 5100, loss: 3.318299e-06\n",
      "train step: 5200, loss: 4.2670426e-06\n",
      "train step: 5300, loss: 4.7644253e-06\n",
      "train step: 5400, loss: 4.1248304e-06\n",
      "train step: 5500, loss: 4.656061e-06\n",
      "train step: 5600, loss: 4.2006136e-06\n",
      "train step: 5700, loss: 3.1981226e-06\n",
      "train step: 5800, loss: 4.6930977e-06\n",
      "train step: 5900, loss: 2.4007154e-06\n",
      "train step: 6000, loss: 3.4984273e-06\n",
      "train step: 6100, loss: 5.2112823e-06\n",
      "train step: 6200, loss: 4.4329227e-06\n",
      "train step: 6300, loss: 3.4663976e-06\n",
      "train step: 6400, loss: 5.1703223e-06\n",
      "train step: 6500, loss: 3.851309e-06\n",
      "train step: 6600, loss: 2.869242e-06\n",
      "train step: 6700, loss: 3.84775e-06\n",
      "train step: 6800, loss: 5.8879177e-06\n",
      "train step: 6900, loss: 3.997913e-06\n",
      "train step: 7000, loss: 5.6210956e-06\n",
      "train step: 7100, loss: 4.739255e-06\n",
      "train step: 7200, loss: 4.825175e-06\n",
      "train step: 7300, loss: 4.1098647e-06\n",
      "train step: 7400, loss: 4.506469e-06\n",
      "train step: 7500, loss: 4.036687e-06\n",
      "train step: 7600, loss: 4.1072053e-06\n",
      "train step: 7700, loss: 3.6757592e-06\n",
      "train step: 7800, loss: 4.4823605e-06\n",
      "train step: 7900, loss: 3.6287013e-06\n",
      "train step: 8000, loss: 4.6057e-06\n",
      "train step: 8100, loss: 4.7695585e-06\n",
      "train step: 8200, loss: 3.0546034e-06\n",
      "train step: 8300, loss: 3.5634862e-06\n",
      "train step: 8400, loss: 3.4331003e-06\n",
      "train step: 8500, loss: 2.8799102e-06\n",
      "train step: 8600, loss: 4.2978095e-06\n",
      "train step: 8700, loss: 4.0355835e-06\n",
      "train step: 8800, loss: 3.717239e-06\n",
      "train step: 8900, loss: 2.938243e-06\n",
      "train step: 9000, loss: 3.2222001e-06\n",
      "train step: 9100, loss: 2.7375545e-06\n",
      "train step: 9200, loss: 3.0594745e-06\n",
      "train step: 9300, loss: 3.9442325e-06\n",
      "train step: 9400, loss: 4.3860778e-06\n",
      "train step: 9500, loss: 2.8418895e-06\n",
      "train step: 9600, loss: 3.3555639e-06\n",
      "train step: 9700, loss: 1.8604715e-06\n",
      "train step: 9800, loss: 3.357543e-06\n",
      "train step: 9900, loss: 3.4634954e-06\n",
      "Root Mean Square Error is: 0.002022\n"
     ]
    },
    {
     "data": {
      "image/png": "[encoded data removed]",
      "text/plain": [
       "<Figure size 432x288 with 1 Axes>"
      ]
     },
     "metadata": {},
     "output_type": "display_data"
    }
   ],
   "source": [
    "# 用正弦函数生成训练和测试数据集合。\n",
    "test_start = (TRAINING_EXAMPLES + TIMESTEPS) * SAMPLE_GAP\n",
    "test_end = test_start + (TESTING_EXAMPLES + TIMESTEPS) * SAMPLE_GAP\n",
    "train_X, train_y = generate_data(np.sin(np.linspace(\n",
    "    0, test_start, TRAINING_EXAMPLES + TIMESTEPS, dtype=np.float32)))\n",
    "test_X, test_y = generate_data(np.sin(np.linspace(\n",
    "    test_start, test_end, TESTING_EXAMPLES + TIMESTEPS, dtype=np.float32)))\n",
    "\n",
    "tf.reset_default_graph()\n",
    "\n",
    "with tf.Session() as sess:\n",
    "    train(sess, train_X, train_y)\n",
    "    run_eval(sess, test_X, test_y)"
   ]
  },
  {
   "cell_type": "code",
   "execution_count": null,
   "metadata": {},
   "outputs": [],
   "source": []
  },
  {
   "cell_type": "code",
   "execution_count": 9,
   "metadata": {},
   "outputs": [],
   "source": [
    "import numpy as np\n",
    "import tensorflow as tf\n",
    "import matplotlib.pyplot as plt"
   ]
  },
  {
   "cell_type": "code",
   "execution_count": 10,
   "metadata": {},
   "outputs": [],
   "source": [
    "HIDDEN_SIZE=30\n",
    "NUM_LAYERS=2\n",
    "TIMESTEPS=10\n",
    "TRAINING_STEPS=10000\n",
    "BATCH_SIZE=32\n",
    "TRAINING_EXAMPLES=10000\n",
    "TESTING_EXAMPLES=1000\n",
    "SAMPLE_GAP=0.01"
   ]
  },
  {
   "cell_type": "code",
   "execution_count": null,
   "metadata": {},
   "outputs": [],
   "source": []
  }
 ],
 "metadata": {
  "kernelspec": {
   "display_name": "Python 3",
   "language": "python",
   "name": "python3"
  },
  "language_info": {
   "codemirror_mode": {
    "name": "ipython",
    "version": 3
   },
   "file_extension": ".py",
   "mimetype": "text/x-python",
   "name": "python",
   "nbconvert_exporter": "python",
   "pygments_lexer": "ipython3",
   "version": "3.6.5"
  }
 },
 "nbformat": 4,
 "nbformat_minor": 2
}

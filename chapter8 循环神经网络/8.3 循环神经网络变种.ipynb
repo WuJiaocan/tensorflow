{
 "cells": [
  {
   "cell_type": "code",
   "execution_count": 1,
   "metadata": {},
   "outputs": [],
   "source": [
    "## 双向循环神经网络"
   ]
  },
  {
   "cell_type": "code",
   "execution_count": 2,
   "metadata": {},
   "outputs": [],
   "source": [
    "## 深层循环神经网络"
   ]
  },
  {
   "cell_type": "code",
   "execution_count": null,
   "metadata": {},
   "outputs": [],
   "source": [
    "# 定义一个基本的LSTM结构作为循环体的基础结构\n",
    "lstm_cell = tf.nn.rnn_cell.BasicLSTMCell\n",
    "\n",
    "# 通过MultiRNNCell类实现深层循环神经网络中每一个时刻的向前传播过程\n",
    "# number_of_layers表示有多少层\n",
    "stacked_lstm = tf.nn.rnn_cell.MultiRNNCell(\n",
    "    [lstm_cell(lstm_size) for _ in range(number_of_layers)])\n",
    "\n",
    "state = stacked_lstm.zero_state(batch_size, tf.float32)\n",
    "\n",
    "for i in range(len(num_steps)):\n",
    "    if i > 0: tf.get_variable_scope().reuse_variables()\n",
    "    stacked_lstm_output, state = stacked_lstm(current_input, state)\n",
    "    final_output = fully_connected(stacked_lstm_output)\n",
    "    loss += clac_loss(final_output, expected_output)"
   ]
  },
  {
   "cell_type": "code",
   "execution_count": null,
   "metadata": {},
   "outputs": [],
   "source": [
    "lstm_cell = tf.nn.rnn_cell.BasicLSTMCell\n",
    "\n",
    "stacked_lstm = tf.nn.rnn_cell.MultiRNNCell(\n",
    "    [lstm_cell(lstm_size) for _ in range(number_of_layers)])\n",
    "\n",
    "state = stacked_lstm.zero_state(batch_size, tf.float32)\n",
    "\n",
    "for i in range(len(num_steps)):\n",
    "    if i > 0: tf.get_variable_scope().reuse_varibales()\n",
    "    stacked_lstm_output, state = stacked_lstm(current_input, state)\n",
    "    final_output = fully_connected(stacked_lstm_output)\n",
    "    loss += clac_loss(final)"
   ]
  }
 ],
 "metadata": {
  "kernelspec": {
   "display_name": "Python 3",
   "language": "python",
   "name": "python3"
  },
  "language_info": {
   "codemirror_mode": {
    "name": "ipython",
    "version": 3
   },
   "file_extension": ".py",
   "mimetype": "text/x-python",
   "name": "python",
   "nbconvert_exporter": "python",
   "pygments_lexer": "ipython3",
   "version": "3.6.5"
  }
 },
 "nbformat": 4,
 "nbformat_minor": 2
}

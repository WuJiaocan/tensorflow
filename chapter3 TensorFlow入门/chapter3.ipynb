{
 "cells": [
  {
   "cell_type": "markdown",
   "metadata": {},
   "source": [
    "## tf准备知识"
   ]
  },
  {
   "cell_type": "code",
   "execution_count": 26,
   "metadata": {},
   "outputs": [
    {
     "name": "stdout",
     "output_type": "stream",
     "text": [
      "b'hello'\n"
     ]
    }
   ],
   "source": [
    "import tensorflow as tf\n",
    "\n",
    "c = tf.constant(\"hello\")\n",
    "with tf.Session() as sess:\n",
    "    print(sess.run(c))"
   ]
  },
  {
   "cell_type": "code",
   "execution_count": 30,
   "metadata": {},
   "outputs": [
    {
     "name": "stdout",
     "output_type": "stream",
     "text": [
      "[[0.54363596 0.34734452 0.9040042 ]\n",
      " [0.23754036 0.7584441  0.6593758 ]]\n",
      "<tf.Variable 'VAR_3:0' shape=(2, 3) dtype=float32_ref>\n",
      "<tf.Variable 'layer/weights/Variable:0' shape=(1, 10) dtype=float32_ref>\n",
      "<tf.Variable 'layer_1/weights/Variable:0' shape=(1, 10) dtype=float32_ref>\n",
      "<tf.Variable 'layer_2/weights/W:0' shape=(1, 10) dtype=float32_ref>\n",
      "<tf.Variable 'layer_2/biases/b:0' shape=(1, 10) dtype=float32_ref>\n",
      "<tf.Variable 'layer_3/weights/W:0' shape=(10, 1) dtype=float32_ref>\n",
      "<tf.Variable 'layer_3/biases/b:0' shape=(1, 1) dtype=float32_ref>\n",
      "<tf.Variable 'input2:0' shape=(3,) dtype=float32_ref>\n",
      "<tf.Variable 'VAR:0' shape=(2, 3) dtype=float32_ref>\n",
      "<tf.Variable 'VAR_1:0' shape=(2, 3) dtype=float32_ref>\n",
      "<tf.Variable 'VAR_2:0' shape=(2, 3) dtype=float32_ref>\n",
      "<tf.Variable 'VAR_3:0' shape=(2, 3) dtype=float32_ref>\n"
     ]
    }
   ],
   "source": [
    "var = tf.Variable(tf.random_uniform([2,3]), name=\"VAR\")\n",
    "INIT = tf.global_variables_initializer()\n",
    "\n",
    "with tf.Session() as sess:\n",
    "    sess.run(INIT)\n",
    "    print(sess.run(var))\n",
    "    print(var)\n",
    "    for i in tf.global_variables():\n",
    "        print(i)"
   ]
  },
  {
   "cell_type": "code",
   "execution_count": 31,
   "metadata": {},
   "outputs": [
    {
     "data": {
      "text/plain": [
       "[]"
      ]
     },
     "execution_count": 31,
     "metadata": {},
     "output_type": "execute_result"
    }
   ],
   "source": [
    "tf.reset_default_graph()\n",
    "tf.global_variables()"
   ]
  },
  {
   "cell_type": "markdown",
   "metadata": {},
   "source": [
    "### tf.Graph()创建新的计算图"
   ]
  },
  {
   "cell_type": "code",
   "execution_count": 36,
   "metadata": {},
   "outputs": [
    {
     "name": "stdout",
     "output_type": "stream",
     "text": [
      "1\n",
      "[3 4]\n"
     ]
    }
   ],
   "source": [
    "import tensorflow as tf\n",
    "# 加载库会创建默认的Graph对象\n",
    "# 再默认图中添加一个节点\n",
    "a = tf.constant(1, name=\"a\")\n",
    "\n",
    "# 创建一个新的计算图\n",
    "g = tf.Graph()\n",
    "with g.as_default():\n",
    "    b = tf.constant([1,2], name=\"b\")\n",
    "\n",
    "# 在默认的数据流图中\n",
    "c = tf.constant([3,4], name=\"c\")\n",
    "\n",
    "sess = tf.Session()\n",
    "print(sess.run(a))\n",
    "print(sess.run(c))"
   ]
  },
  {
   "cell_type": "code",
   "execution_count": 37,
   "metadata": {},
   "outputs": [
    {
     "name": "stdout",
     "output_type": "stream",
     "text": [
      "[1 2]\n"
     ]
    }
   ],
   "source": [
    "sess = tf.Session(graph=g)\n",
    "print(sess.run(b))"
   ]
  },
  {
   "cell_type": "markdown",
   "metadata": {},
   "source": [
    "### 常量节点 constant"
   ]
  },
  {
   "cell_type": "code",
   "execution_count": 41,
   "metadata": {},
   "outputs": [
    {
     "name": "stdout",
     "output_type": "stream",
     "text": [
      "12\n"
     ]
    }
   ],
   "source": [
    "a = tf.constant(5)\n",
    "b = tf.constant(7)\n",
    "node_add = tf.add(a,b)\n",
    "with tf.Session() as sess:\n",
    "    print(sess.run(node_add))"
   ]
  },
  {
   "cell_type": "markdown",
   "metadata": {},
   "source": [
    "### 占位符节点 placeholder"
   ]
  },
  {
   "cell_type": "code",
   "execution_count": 43,
   "metadata": {},
   "outputs": [
    {
     "name": "stdout",
     "output_type": "stream",
     "text": [
      "12.0\n",
      "[3. 8.]\n"
     ]
    }
   ],
   "source": [
    "a = tf.placeholder(tf.float32)\n",
    "b = tf.placeholder(tf.float32)\n",
    "node_add = tf.add(a,b)\n",
    "with tf.Session() as sess:\n",
    "    print(sess.run(node_add, feed_dict={a:5, b:7}))\n",
    "    print(sess.run(node_add, feed_dict={a:[2,0], b:[1,8]}))"
   ]
  },
  {
   "cell_type": "markdown",
   "metadata": {},
   "source": [
    "### 变量节点 variable"
   ]
  },
  {
   "cell_type": "code",
   "execution_count": 44,
   "metadata": {},
   "outputs": [
    {
     "name": "stdout",
     "output_type": "stream",
     "text": [
      "12\n",
      "16\n"
     ]
    }
   ],
   "source": [
    "a = tf.Variable(5, tf.float32) # 可动态修改\n",
    "b = tf.Variable(7, tf.float32)\n",
    "node_add = tf.add(a,b)\n",
    "\n",
    "init = tf.global_variables_initializer()\n",
    "\n",
    "with tf.Session() as sess:\n",
    "    sess.run(init)\n",
    "    print(sess.run(node_add))\n",
    "    \n",
    "    new_a = tf.assign(a, 9)\n",
    "    sess.run(new_a)\n",
    "    print(sess.run(node_add))"
   ]
  },
  {
   "cell_type": "code",
   "execution_count": 46,
   "metadata": {},
   "outputs": [],
   "source": [
    "zeros = tf.zeros([2,2])\n",
    "ones = tf.ones([6])\n",
    "uniform = tf.random_uniform([3,3,3], minval=0, maxval=10)\n",
    "normal = tf.random_normal([3,3,3], mean=0, stddev=2.0)\n",
    "trunc = tf.truncated_normal([2,2], mean=5.0, stddev=1.0)\n",
    "random_var = tf.Variable(tf.truncated_normal([2,2]))\n",
    "\n",
    "init = tf.global_variables_initializer()\n",
    "sess = tf.Session()\n",
    "sess.run(init) \n",
    "\n",
    "var1 = tf.Variable(0, name='init_1') \n",
    "init1 = tf.variables_initializer([var1], name=\"init_var1\")\n",
    "sess.run(init1)"
   ]
  },
  {
   "cell_type": "code",
   "execution_count": 47,
   "metadata": {},
   "outputs": [],
   "source": [
    "not_trainable = tf.Variable(0, trainable=False)"
   ]
  },
  {
   "cell_type": "code",
   "execution_count": 57,
   "metadata": {},
   "outputs": [
    {
     "name": "stdout",
     "output_type": "stream",
     "text": [
      "[1]\n",
      "[1]\n",
      "[[ 1.9545484 -1.7139015  3.6554484]\n",
      " [ 1.0186687  2.6827338  4.1833076]]\n",
      "[[ 1.9545484 -1.7139015  3.6554484]\n",
      " [ 1.0186687  2.6827338  4.1833076]]\n"
     ]
    }
   ],
   "source": [
    "v1 = tf.Variable([1])\n",
    "v2 = tf.Variable(tf.random_normal([2,3], mean=1, stddev=2))\n",
    "with tf.Session() as sess:   \n",
    "    initialization = tf.global_variables_initializer()   \n",
    "    sess.run(initialization) \n",
    "    print(sess.run(v1))\n",
    "    print(v1.eval())\n",
    "    print(sess.run(v2))\n",
    "    print(v2.eval())"
   ]
  },
  {
   "cell_type": "code",
   "execution_count": 58,
   "metadata": {},
   "outputs": [
    {
     "name": "stdout",
     "output_type": "stream",
     "text": [
      "[1]\n",
      "[1]\n",
      "[9]\n"
     ]
    }
   ],
   "source": [
    "with tf.Session() as sess:\n",
    "    sess.run(tf.global_variables_initializer())\n",
    "    print(v1.eval())\n",
    "    \n",
    "    assign = tf.assign(v1, [9])\n",
    "    print(v1.eval())\n",
    "    \n",
    "    sess.run(assign)\n",
    "    print(v1.eval())"
   ]
  },
  {
   "cell_type": "markdown",
   "metadata": {},
   "source": [
    "### 操作节点 operation"
   ]
  },
  {
   "cell_type": "code",
   "execution_count": 60,
   "metadata": {},
   "outputs": [
    {
     "name": "stdout",
     "output_type": "stream",
     "text": [
      "35\n"
     ]
    }
   ],
   "source": [
    "a = tf.constant(5) \n",
    "b = tf.constant(7) \n",
    "node_add = tf.multiply(a, b) \n",
    "with tf.Session() as sess:\n",
    "    print(sess.run(node_add))"
   ]
  },
  {
   "cell_type": "markdown",
   "metadata": {},
   "source": [
    "### 会话 session"
   ]
  },
  {
   "cell_type": "code",
   "execution_count": 62,
   "metadata": {},
   "outputs": [
    {
     "name": "stdout",
     "output_type": "stream",
     "text": [
      "12\n"
     ]
    }
   ],
   "source": [
    "a = tf.Variable(5, tf.float32) \n",
    "b = tf.Variable(7, tf.float32) \n",
    "node_add = tf.add(a, b) \n",
    "with tf.Session() as sess:   \n",
    "    initialization = tf.global_variables_initializer()   \n",
    "    sess.run(initialization)   \n",
    "    print(sess.run(node_add))"
   ]
  },
  {
   "cell_type": "code",
   "execution_count": 70,
   "metadata": {},
   "outputs": [],
   "source": [
    "'''\n",
    "    会报错：\n",
    "    ValueError: Fetch argument <tf.Variable 'a:0' shape=(1,) dtype=int32_ref> cannot be interpreted as a Tensor. \n",
    "    (Tensor Tensor(\"a:0\", shape=(1,), dtype=int32_ref) is not an element of this graph.)\n",
    "'''\n",
    "import tensorflow as tf \n",
    "\n",
    "with tf.Graph().as_default():\n",
    "    g_a = tf.Variable([7], name=\"a\")\n",
    "\n",
    "init = tf.global_variables_initializer()\n",
    "\n",
    "with tf.Session() as sess:\n",
    "    sess.run(init)\n",
    "    print(sess.run(g_a))"
   ]
  },
  {
   "cell_type": "code",
   "execution_count": 65,
   "metadata": {},
   "outputs": [
    {
     "name": "stdout",
     "output_type": "stream",
     "text": [
      "[7]\n"
     ]
    }
   ],
   "source": [
    "import tensorflow as tf \n",
    "\n",
    "with tf.Graph().as_default():\n",
    "    g_a = tf.Variable([7], name=\"a\")\n",
    "\n",
    "    init = tf.global_variables_initializer()\n",
    "\n",
    "    with tf.Session() as sess:\n",
    "        sess.run(init)\n",
    "        print(sess.run(g_a))"
   ]
  },
  {
   "cell_type": "code",
   "execution_count": 67,
   "metadata": {},
   "outputs": [
    {
     "name": "stdout",
     "output_type": "stream",
     "text": [
      "[7]\n"
     ]
    }
   ],
   "source": [
    "import tensorflow as tf \n",
    "graph = tf.Graph()\n",
    "with graph.as_default():\n",
    "    g_a = tf.Variable([7], name=\"a\")\n",
    "\n",
    "    init = tf.global_variables_initializer()\n",
    "\n",
    "with tf.Session(graph=graph) as sess:\n",
    "    sess.run(init)\n",
    "    print(sess.run(g_a))"
   ]
  },
  {
   "cell_type": "code",
   "execution_count": 68,
   "metadata": {},
   "outputs": [
    {
     "name": "stdout",
     "output_type": "stream",
     "text": [
      "12\n"
     ]
    }
   ],
   "source": [
    "a = tf.Variable(5, tf.float32) \n",
    "b = tf.Variable(7, tf.float32) \n",
    "node_add = tf.add(a, b) \n",
    "sess = tf.InteractiveSession()\n",
    "initialization = tf.global_variables_initializer()\n",
    "initialization.run()\n",
    "print(node_add.eval())"
   ]
  },
  {
   "cell_type": "markdown",
   "metadata": {},
   "source": [
    "## //////////////////////////////////////////////////////////////////////"
   ]
  },
  {
   "cell_type": "code",
   "execution_count": 1,
   "metadata": {},
   "outputs": [
    {
     "name": "stderr",
     "output_type": "stream",
     "text": [
      "/home/wujiaocan/anaconda3/lib/python3.6/site-packages/h5py/__init__.py:36: FutureWarning: Conversion of the second argument of issubdtype from `float` to `np.floating` is deprecated. In future, it will be treated as `np.float64 == np.dtype(float).type`.\n",
      "  from ._conv import register_converters as _register_converters\n"
     ]
    }
   ],
   "source": [
    "import tensorflow as tf\n",
    "a = tf.constant([1.0, 2.0], name=\"a\")\n",
    "b = tf.constant([2.0, 3.0], name=\"b\")\n",
    "result = a+b"
   ]
  },
  {
   "cell_type": "code",
   "execution_count": 6,
   "metadata": {},
   "outputs": [
    {
     "name": "stdout",
     "output_type": "stream",
     "text": [
      "True\n"
     ]
    }
   ],
   "source": [
    "print(a.graph is tf.get_default_graph())"
   ]
  },
  {
   "cell_type": "code",
   "execution_count": 78,
   "metadata": {},
   "outputs": [
    {
     "name": "stdout",
     "output_type": "stream",
     "text": [
      "[0.]\n",
      "[1.]\n"
     ]
    }
   ],
   "source": [
    "import tensorflow as tf\n",
    "\n",
    "g1 = tf.Graph()\n",
    "with g1.as_default():\n",
    "    # 在计算图g1中定义变量“v\"，并设置初始值为0.\n",
    "    v = tf.get_variable(\"v\", shape=[1], initializer=tf.zeros_initializer)\n",
    "\n",
    "g2 = tf.Graph()\n",
    "with g2.as_default():\n",
    "    # 在计算图g2中定义变量“v\"，并设置初始值为1.\n",
    "    v = tf.get_variable(\"v\", shape=[1], initializer=tf.ones_initializer)\n",
    "\n",
    "# 在计算图g1中读取变量\"v\"的取值\n",
    "with tf.Session(graph=g1) as sess:\n",
    "    tf.global_variables_initializer().run()\n",
    "    with tf.variable_scope(\"\", reuse=True):\n",
    "        print(sess.run(tf.get_variable(\"v\")))\n",
    "\n",
    "# 在计算图g2中读取变量\"v\"的取值\n",
    "with tf.Session(graph=g2) as sess:\n",
    "    sess.run(tf.global_variables_initializer())\n",
    "    with tf.variable_scope(\"\", reuse=True):\n",
    "        print(sess.run(tf.get_variable(\"v\")))"
   ]
  },
  {
   "cell_type": "code",
   "execution_count": 79,
   "metadata": {},
   "outputs": [],
   "source": [
    "weights = tf.Variable(tf.random_normal([2,3], stddev=2)) # 没指定均值，默认为0"
   ]
  },
  {
   "cell_type": "code",
   "execution_count": 80,
   "metadata": {},
   "outputs": [],
   "source": [
    "bias = tf.Variable(tf.zeros([3]))"
   ]
  },
  {
   "cell_type": "code",
   "execution_count": null,
   "metadata": {},
   "outputs": [],
   "source": [
    "w2 = tf.Variable(weights.initial_value())        # w2的值与weights相同\n",
    "w3 = tf.Variable(weights.initial_value() * 2.0)  # w3的值为weights的二倍"
   ]
  },
  {
   "cell_type": "markdown",
   "metadata": {},
   "source": [
    "### 向前传播"
   ]
  },
  {
   "cell_type": "code",
   "execution_count": 88,
   "metadata": {},
   "outputs": [
    {
     "name": "stdout",
     "output_type": "stream",
     "text": [
      "[[3.957578 ]\n",
      " [1.1537654]\n",
      " [3.1674924]]\n"
     ]
    }
   ],
   "source": [
    "import tensorflow as tf\n",
    "\n",
    "w1 = tf.Variable(tf.random_normal((2,3), stddev=1, seed=1))\n",
    "w2 = tf.Variable(tf.random_normal((3,1), stddev=1, seed=1))\n",
    "\n",
    "# x = tf.constant([[0.7, 0.9]])   # 1x2矩阵\n",
    "# x = tf.placeholder(tf.float32, shape=(1,2), name=\"input\")\n",
    "x = tf.placeholder(tf.float32, shape=(3,2), name=\"input\")\n",
    "\n",
    "a = tf.matmul(x, w1)\n",
    "y = tf.matmul(a, w2)\n",
    "\n",
    "# tf.clip_by_value(A, min, max)：输入一个张量A，把A中的每一个元素的值都压缩在min和max之间。\n",
    "# 小于min的让它等于min，大于max的元素的值等于max。\n",
    "y = tf.sigmoid(y)\n",
    "cross_entropy = -tf.reduce_mean(y_ * tf.log(tf.clip_by_value(y, 1e-10, 1.0))\n",
    "                               + (1-y_) * tf.log(tf.clip_by_value(1-y, 1e-10, 1.0)))\n",
    "train_step = tf.train.AdamOptimizer(learning_rate).minimize(cross_entropy)\n",
    "\n",
    "sess = tf.Session()\n",
    "\n",
    "sess.run(tf.global_variables_initializer())\n",
    "# 等价下面分别初始化两个变量\n",
    "# sess.run(w1.initializer)\n",
    "# sess.run(w2.initializer)\n",
    "\n",
    "# print(sess.run(y))\n",
    "print(sess.run(y, feed_dict={x: [[0.7, 0.9], [0.1, 0.4], [0.5, 0.8]]}))\n",
    "sess.close()"
   ]
  },
  {
   "cell_type": "markdown",
   "metadata": {},
   "source": [
    "### 完整神经网络"
   ]
  },
  {
   "cell_type": "code",
   "execution_count": 89,
   "metadata": {},
   "outputs": [],
   "source": [
    "import tensorflow as tf\n",
    "from numpy.random import RandomState"
   ]
  },
  {
   "cell_type": "code",
   "execution_count": 90,
   "metadata": {},
   "outputs": [],
   "source": [
    "# 定义神经网络的参数，输入和输出节点。\n",
    "batch_size = 8\n",
    "w1= tf.Variable(tf.random_normal([2, 3], stddev=1, seed=1))\n",
    "w2= tf.Variable(tf.random_normal([3, 1], stddev=1, seed=1))\n",
    "x = tf.placeholder(tf.float32, shape=(None, 2), name=\"x-input\")\n",
    "y_= tf.placeholder(tf.float32, shape=(None, 1), name='y-input')"
   ]
  },
  {
   "cell_type": "code",
   "execution_count": 147,
   "metadata": {},
   "outputs": [],
   "source": [
    "#  定义前向传播过程，损失函数及反向传播算法。\n",
    "a = tf.matmul(x, w1)\n",
    "y = tf.matmul(a, w2)\n",
    "y = tf.sigmoid(y)\n",
    "cross_entropy = -tf.reduce_mean(y_ * tf.log(tf.clip_by_value(y, 1e-10, 1.0))    \n",
    "                                + (1 - y_) * tf.log(tf.clip_by_value(1 - y, 1e-10, 1.0)))# 做平滑，有可能y很接近0\n",
    "\n",
    "# cross_entropy = -tf.reduce_mean(y_ * tf.log(y)\n",
    "#                                 + (1 - y_) * tf.log(1 - y))\n",
    "\n",
    "train_step = tf.train.AdamOptimizer(0.001).minimize(cross_entropy)"
   ]
  },
  {
   "cell_type": "code",
   "execution_count": 145,
   "metadata": {},
   "outputs": [],
   "source": [
    "# 生成模拟数据集。\n",
    "rdm = RandomState(1)\n",
    "X = rdm.rand(128,2)  # 128 x 2\n",
    "# Y = [int(x1+x2 < 1) for (x1, x2) in X] # 一维\n",
    "Y = [[int(x1+x2 < 1)] for (x1, x2) in X] # 二维"
   ]
  },
  {
   "cell_type": "code",
   "execution_count": 148,
   "metadata": {},
   "outputs": [
    {
     "name": "stdout",
     "output_type": "stream",
     "text": [
      "[[-0.8113182   1.4845988   0.06532937]\n",
      " [-2.4427042   0.0992484   0.5912243 ]]\n",
      "[[-0.8113182 ]\n",
      " [ 1.4845988 ]\n",
      " [ 0.06532937]]\n",
      "\n",
      "\n",
      "After 0 training step(s), cross entropy on all data is 1.89805\n",
      "After 1000 training step(s), cross entropy on all data is 0.655075\n",
      "After 2000 training step(s), cross entropy on all data is 0.626172\n",
      "After 3000 training step(s), cross entropy on all data is 0.615096\n",
      "After 4000 training step(s), cross entropy on all data is 0.610309\n",
      "\n",
      "\n",
      "[[ 0.02476983  0.56948674  1.6921941 ]\n",
      " [-2.1977348  -0.23668921  1.1143895 ]]\n",
      "[[-0.45544702]\n",
      " [ 0.49110925]\n",
      " [-0.98110336]]\n"
     ]
    }
   ],
   "source": [
    "# 创建一个会话来运行TensorFlow程序\n",
    "with tf.Session() as sess:\n",
    "    init_op = tf.global_variables_initializer()\n",
    "    sess.run(init_op)\n",
    "    \n",
    "    # 输出目前（未经训练）的参数取值\n",
    "    print(sess.run(w1))\n",
    "    print(sess.run(w2))\n",
    "    print(\"\\n\")\n",
    "    \n",
    "    # 训练模型\n",
    "    STEPS = 5000\n",
    "    for i in range(STEPS):\n",
    "        start = (i*batch_size) % 128 # batch_size=8\n",
    "        end = (i*batch_size) % 128 + batch_size\n",
    "#         sess.run([train_step, y, y_], feed_dict={x: X[start:end], y_: Y[start:end]})\n",
    "        sess.run(train_step, feed_dict={x: X[start:end], y_: Y[start:end]})\n",
    "\n",
    "        if i % 1000 == 0:\n",
    "            total_cross_entropy = sess.run(cross_entropy, feed_dict={x: X, y_: Y})\n",
    "            print(\"After %d training step(s), cross entropy on all data is %g\" % (i, total_cross_entropy))\n",
    "    \n",
    "    # 输出训练后的参数取值。\n",
    "    print(\"\\n\")\n",
    "    print(sess.run(w1))\n",
    "    print(sess.run(w2))"
   ]
  },
  {
   "cell_type": "code",
   "execution_count": null,
   "metadata": {},
   "outputs": [],
   "source": []
  },
  {
   "cell_type": "code",
   "execution_count": 150,
   "metadata": {},
   "outputs": [],
   "source": [
    "import tensorflow as tf"
   ]
  },
  {
   "cell_type": "code",
   "execution_count": 151,
   "metadata": {},
   "outputs": [],
   "source": [
    "w1 = tf.Variable(tf.random_normal([2,3], stddev=1, seed=1))\n",
    "w2 = tf.Variable(tf.random_normal([3,1], stddev=1, seed=1))\n",
    "x = tf.placeholder(tf.float32 ,shape=(None, 2), name=\"x-input\")\n",
    "y = tf.placeholder(tf.float32, shape=(None, 1), name=\"y-input\")"
   ]
  },
  {
   "cell_type": "code",
   "execution_count": 158,
   "metadata": {},
   "outputs": [],
   "source": [
    "a = tf.matmul(x, w1)\n",
    "y = tf.matmul(a, w2)\n",
    "y = tf.sigmoid(y)\n",
    "\n",
    "cross_entropy = -tf.reduce_mean(y_ * tf.log(tf.clip_by_value(y, 1e-10, 1))\n",
    "                              + (1-y_)*tf.log(tf.clip_by_value((1-y), 1e-10, 1)))\n",
    "\n",
    "train_step = tf.train.AdamOptimizer(0.001).minimize(cross_entropy)"
   ]
  },
  {
   "cell_type": "code",
   "execution_count": 154,
   "metadata": {},
   "outputs": [],
   "source": [
    "import numpy\n",
    "X = numpy.random.RandomState(2).rand(128,2)\n",
    "Y = [[int(x1+x2 < 1)] for x1, x2 in X]"
   ]
  },
  {
   "cell_type": "code",
   "execution_count": 159,
   "metadata": {},
   "outputs": [
    {
     "name": "stdout",
     "output_type": "stream",
     "text": [
      "[[-0.8113182   1.4845988   0.06532937]\n",
      " [-2.4427042   0.0992484   0.5912243 ]]\n",
      "[[-0.8113182 ]\n",
      " [ 1.4845988 ]\n",
      " [ 0.06532937]]\n",
      "\n",
      "\n",
      "1.6847135\n",
      "0.6713028\n",
      "0.6602192\n",
      "0.65981317\n",
      "0.65962255\n",
      "\n",
      "\n",
      "[[-0.24938132  0.82057744  1.1775366 ]\n",
      " [-2.0232887  -0.38369426  1.3972882 ]]\n",
      "[[-0.2917295]\n",
      " [ 0.8541243]\n",
      " [-0.8009632]]\n"
     ]
    }
   ],
   "source": [
    "with tf.Session() as sess:\n",
    "    sess.run(tf.global_variables_initializer())\n",
    "    print(sess.run(w1))\n",
    "    print(sess.run(w2))\n",
    "    print(\"\\n\")\n",
    "    \n",
    "    STEPS=5000\n",
    "    batch_size=8\n",
    "    for i in range(STEPS):\n",
    "        start = (i*batch_size) % 128\n",
    "        end = (i*batch_size) % 128 + batch_size\n",
    "        sess.run(train_step, feed_dict={x:X[start:end], y_:Y[start:end]})\n",
    "        \n",
    "        if i % 1000 == 0:\n",
    "            print(sess.run(cross_entropy, feed_dict={x:X, y_:Y}))\n",
    "    print(\"\\n\")\n",
    "    print(sess.run(w1))\n",
    "    print(sess.run(w2))"
   ]
  },
  {
   "cell_type": "code",
   "execution_count": null,
   "metadata": {},
   "outputs": [],
   "source": []
  }
 ],
 "metadata": {
  "kernelspec": {
   "display_name": "Python 3",
   "language": "python",
   "name": "python3"
  },
  "language_info": {
   "codemirror_mode": {
    "name": "ipython",
    "version": 3
   },
   "file_extension": ".py",
   "mimetype": "text/x-python",
   "name": "python",
   "nbconvert_exporter": "python",
   "pygments_lexer": "ipython3",
   "version": "3.6.5"
  }
 },
 "nbformat": 4,
 "nbformat_minor": 2
}
